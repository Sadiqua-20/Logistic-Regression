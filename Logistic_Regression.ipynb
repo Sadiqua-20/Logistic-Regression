{
  "nbformat": 4,
  "nbformat_minor": 0,
  "metadata": {
    "colab": {
      "provenance": [],
      "collapsed_sections": [
        "xtV5ag4Q5YGz",
        "NlDDVij0vXoE"
      ]
    },
    "kernelspec": {
      "name": "python3",
      "display_name": "Python 3"
    },
    "language_info": {
      "name": "python"
    }
  },
  "cells": [
    {
      "cell_type": "markdown",
      "source": [
        "# **THEORETICAL QUESTIONS**"
      ],
      "metadata": {
        "id": "xtV5ag4Q5YGz"
      }
    },
    {
      "cell_type": "markdown",
      "source": [
        "## Q1. What is Logistic Regression, and how does it differ from Linear Regression?"
      ],
      "metadata": {
        "id": "5xXapkLN5jLs"
      }
    },
    {
      "cell_type": "markdown",
      "source": [
        "## ANS 1.\n",
        "\n",
        "**Logistic Regression** is a statistical method used to **predict a binary outcome** — like yes/no, true/false, or 0/1 — based on input data.\n",
        "\n",
        "**Linear Regression** predicts a **continuous numeric value**, like a price, score, or temperature.\n",
        "\n",
        "### Difference:\n",
        "- **Linear Regression**: Output is a number (e.g., predicting a person’s weight).\n",
        "- **Logistic Regression**: Output is a probability → turned into a category (e.g., predicting if a person is diabetic or not).\n",
        "\n",
        "### Example:\n",
        "- Linear: \"What price will the house sell for?\"\n",
        "- Logistic: \"Will the house sell within 30 days: Yes or No?\""
      ],
      "metadata": {
        "id": "qm8Vm4Dq6L0o"
      }
    },
    {
      "cell_type": "markdown",
      "source": [
        "## Q2. What is the mathematical equation of Logistic Regression?"
      ],
      "metadata": {
        "id": "mVnweMuI6nT0"
      }
    },
    {
      "cell_type": "markdown",
      "source": [
        "## ANS 2.\n",
        "\n",
        "- The **mathematical equation of Multivariate Logistic Regression** is:  \n",
        "$ h_\\theta(x) = \\frac{1}{1 + e^{-(\\theta_0 + \\theta_1 X_1 + \\theta_2 X_2 + \\dots + \\theta_n X_n)}}$  \n",
        "\n",
        "- The **mathematical equation of Bivariate Logistic Regression** is:  \n",
        "$ h_\\theta(x) = \\frac{1}{1 + e^{-(\\theta_0 + \\theta_1 X_1)}}$\n"
      ],
      "metadata": {
        "id": "IF0DfzsW6roL"
      }
    },
    {
      "cell_type": "markdown",
      "source": [
        "## Q3. Why do we use the Sigmoid function in Logistic Regression?"
      ],
      "metadata": {
        "id": "uq8izUEY8d_P"
      }
    },
    {
      "cell_type": "markdown",
      "source": [
        "## ANS 3.\n",
        "\n",
        "We use the **sigmoid function** in Logistic Regression because it converts any real number(positive or negative) into a probability between 0 and 1.\n",
        "\n",
        "- The output of logistic regression needs to answer:  \n",
        "  \"What’s the chance this belongs to class 1?\"\n",
        "\n",
        "- The raw equation (like in linear regression) can give any number, even negative or over 1 — which doesn’t make sense as a probability.\n",
        "- The **sigmoid function** fixes that by squashing the number into a **range between 0 and 1**.\n",
        "\n",
        "### Visually:\n",
        "- Input: Any number (like -5, 0, 2)\n",
        "- Output after sigmoid: Always between 0 and 1  \n",
        "  (e.g., sigmoid(0) = 0.5, sigmoid(2) ≈ 0.88,  sigmoid(2) ≈ 0.88,  sigmoid(-∞) = 0 sigmoid(∞) = 1)\n",
        "\n",
        "So, we use it to **map predictions to probabilities**, which we can then use to classify (e.g., if prob > 0.5 → class 1, else class 0)."
      ],
      "metadata": {
        "id": "lZAFSyJa8rNY"
      }
    },
    {
      "cell_type": "markdown",
      "source": [
        "## Q4. What is the cost function of Logistic Regression?"
      ],
      "metadata": {
        "id": "NklkkfJh-NBC"
      }
    },
    {
      "cell_type": "markdown",
      "source": [
        "## ANS 4.\n",
        "\n",
        "The **cost function of Logistic Regression** (CF) is called the **Log Loss**.\n",
        "\n",
        "### The formula:\n",
        "\n",
        "$CF $ = $-\\frac{1}{n} \\sum_{i=1}^{n} \\left[ y_{i} \\log(h_θ(x_i)) + (1 - y_{i}) \\log(1 - h_θ(x_i)) \\right]$\n",
        "\n",
        "where,\n",
        "-  $n$ : Number of training examples\n",
        "-  $y_i$ : Actual label (0 or 1)\n",
        "- $h_θ(x_i) $: Predicted probability = $ \\frac{1}{1 + e^{-(\\theta_0 + \\theta_1 X_1)}}$\n"
      ],
      "metadata": {
        "id": "u_4hu8AE-RDx"
      }
    },
    {
      "cell_type": "markdown",
      "source": [
        "## Q5. What is Regularization in Logistic Regression? Why is it needed?"
      ],
      "metadata": {
        "id": "gvoa3jo7CVi7"
      }
    },
    {
      "cell_type": "markdown",
      "source": [
        "## ANS 5.\n",
        "\n",
        "**Regularization in Logistic Regression** is a technique used to **prevent overfitting** by **penalizing large coefficients** in the model.\n",
        "\n",
        "### Why it's needed:  \n",
        "When the model learns **too much from the training data**, including noise, it may not perform well on the test data. This leads to overfitting.\n",
        "\n",
        "\n",
        "### Three types:\n",
        "- **L1 (Lasso)**: Can make some weights exactly zero and helps with feature selection.\n",
        "- **L2 (Ridge)**: Shrinks weights but doesn’t make them zero and reduces overfitting.\n",
        "- **Elatic Net**: Ridge + Lasso , helps in both reducing overfitting and feature selection.\n"
      ],
      "metadata": {
        "id": "8Afw8JiOCvPF"
      }
    },
    {
      "cell_type": "markdown",
      "source": [
        "## Q6. Explain the difference between Lasso, Ridge, and Elastic Net regression."
      ],
      "metadata": {
        "id": "NdTsxtJ2EPjv"
      }
    },
    {
      "cell_type": "markdown",
      "source": [
        "## ANS 6.\n",
        "\n",
        "### **1. Ridge Regression (L2 Regularization)**  \n",
        "- **Adds a penalty**: Sum of squares of the coefficients:  \n",
        "  Penalty = $\\lambda \\sum \\theta_i^2$\n",
        "- **Effect**: Shrinks coefficients, but does not make them zero  \n",
        "- **Use**: When we need to reduce overfitting\n",
        "\n",
        "\n",
        "### **2. Lasso Regression (L1 Regularization)**  \n",
        "- **Adds a penalty**: Sum of absolute values of coefficients:    \n",
        "  Penalty = $\\lambda \\sum |\\theta_i|$\n",
        "  \n",
        "- **Effect**: Can shrink some coefficients exactly to zero\n",
        "- **Use**: When we want **feature selection** (automatically pick important features)\n",
        "\n",
        "\n",
        "### **3. Elastic Net Regression**  \n",
        "- **Combines L1 and L2 penalties**:  \n",
        "  Penalty = $\\lambda_1 \\sum |\\theta_i| + \\lambda_2 \\sum \\theta_i^2$\n",
        "- **Effect**: Mixes benefits of Ridge and Lasso  \n",
        "- **Use**: We have **many features**, and some are correlated"
      ],
      "metadata": {
        "id": "RwB5zhIBEXT_"
      }
    },
    {
      "cell_type": "markdown",
      "source": [
        "## Q7. When should we use Elastic Net instead of Lasso or Ridge?"
      ],
      "metadata": {
        "id": "ZD4k_75nKvyA"
      }
    },
    {
      "cell_type": "markdown",
      "source": [
        "## ANS 7.\n",
        "\n",
        "Use **Elastic Net** when we have:\n",
        "1. **Many features** (especially more features than data points)\n",
        "2. **Correlated features** (features that are related to each other)\n",
        "3. **Want both**: feature selection **and** stability(to reduce overfitting)\n"
      ],
      "metadata": {
        "id": "RM3H3HNpK2Of"
      }
    },
    {
      "cell_type": "markdown",
      "source": [
        "## Q8. What is the impact of the regularization parameter (λ) in Logistic Regression?"
      ],
      "metadata": {
        "id": "ymbOX_UwLfvT"
      }
    },
    {
      "cell_type": "markdown",
      "source": [
        "## ANS 8.\n",
        "\n",
        "The **regularization parameter $\\lambda$** in Logistic Regression controls **how much penalty** is added for large coefficients.\n",
        "\n",
        "\n",
        "### Impact of $\\lambda$:\n",
        "\n",
        "- **Large  $\\lambda$** (strong regularization):\n",
        "  - Shrinks coefficients more\n",
        "  - Model becomes simpler\n",
        "  - Can lead to underfitting (too simple, misses patterns)\n",
        "\n",
        "- **Small $\\lambda$** (weak regularization):\n",
        "  - Shrinks coefficients less\n",
        "  - Model becomes more flexible\n",
        "  - Can lead to overfitting (too complex, captures noise)"
      ],
      "metadata": {
        "id": "db-1pKwQLmSd"
      }
    },
    {
      "cell_type": "markdown",
      "source": [
        "## Q9. What are the key assumptions of Logistic Regression?"
      ],
      "metadata": {
        "id": "5IW83tmJRwYc"
      }
    },
    {
      "cell_type": "markdown",
      "source": [
        "## ANS 9.\n",
        "\n",
        "Following are the **key assumptions of Logistic Regression**:\n",
        "\n",
        "### 1. **Binary or Categorical Outcome**\n",
        "- The **dependent variable** should be **binary** (e.g., 0 or 1) or **categorical** for multinomial logistic regression.\n",
        "\n",
        "### 2. **Linearity of Logit**\n",
        "- The **log-odds** (not the outcome itself) must have a **linear relationship** with the independent variables.\n",
        "\n",
        "### 3. **Independence of Observations**\n",
        "- Each observation (row of data) should be **independent** of the others.\n",
        "\n",
        "### 4. **No or Little Multicollinearity**\n",
        "- The **independent variables should not be highly correlated** with each other.\n",
        "\n",
        "### 5. **Large Sample Size**\n",
        "- Logistic regression works best with **a decent amount of data**.\n"
      ],
      "metadata": {
        "id": "iakME0cqR6ST"
      }
    },
    {
      "cell_type": "markdown",
      "source": [
        "## Q10. What are some alternatives to Logistic Regression for classification tasks?"
      ],
      "metadata": {
        "id": "YJOBsWiiT2cY"
      }
    },
    {
      "cell_type": "markdown",
      "source": [
        "## ANS 10.\n",
        "\n",
        "Following are some popular **alternatives to Logistic Regression** for classification tasks:\n",
        "\n",
        "1. **Decision Trees**\n",
        " - Simple, interpretable \"if-else\" models\n",
        " - Handle non-linear relationships well\n",
        "\n",
        "2. **Random Forest**\n",
        " - An ensemble of decision trees\n",
        " - More accurate and robust than a single tree\n",
        "\n",
        "3. **Support Vector Machines (SVM)**\n",
        " - Finds the best boundary between classes\n",
        " - Works well with high-dimensional data\n",
        "\n",
        "\n",
        "4. **Neural Networks**\n",
        " - Powerful for complex patterns\n",
        " - Useful in deep learning and large datasets\n",
        "\n",
        "5. **Naive Bayes**\n",
        " - Based on probability\n",
        " - Fast and works well with text data (e.g., spam detection)\n",
        "\n",
        "\n",
        "\n",
        "\n",
        "\n"
      ],
      "metadata": {
        "id": "UdbBOlNfUEVx"
      }
    },
    {
      "cell_type": "markdown",
      "source": [
        "## Q11. What are Classification Evaluation Metrics?"
      ],
      "metadata": {
        "id": "Nxc-kbhrVlbL"
      }
    },
    {
      "cell_type": "markdown",
      "source": [
        "## ANS 11.\n",
        "\n",
        "Here are the **key classification evaluation metrics**, explained simply:\n",
        "\n",
        "### 1. **Confusion Matrix**\n",
        "- A table showing:\n",
        "  - True Positives (TP)\n",
        "  - False Positives (FP)\n",
        "  - True Negatives (TN)\n",
        "  - False Negatives (FN)  \n",
        "- Helps visualize performance\n",
        "\n",
        "### 2. **Accuracy**\n",
        "- **What it tells**: How many predictions were correct overall  \n",
        "- **Formula**:  \n",
        "  \n",
        "  $\\text{Accuracy} = \\frac{\\text{Correct predictions}}{\\text{Total predictions}} = \\frac{TP + TN}{TP +FP + FN + TN}$\n",
        "  \n",
        "- Good for balanced datasets  \n",
        "- Not reliable if classes are imbalanced\n",
        "\n",
        "\n",
        "### 3. **Precision**\n",
        "- **What it tells**: Out of all predicted positives, how many are predicted correct  \n",
        "- **Formula**:  \n",
        "  $\\text{Precision} = \\frac{\\text{True Positives}}{\\text{True Positives + False Positives}}$\n",
        "\n",
        "### 4. **Recall (Sensitivity)**\n",
        "- **What it tells**: Out of all actual positives(1), how many are actually predicted 1.\n",
        "- **Formula**:  \n",
        "  \n",
        "  $\\text{Recall} = \\frac{\\text{True Positives}}{\\text{True Positives + False Negatives}}$\n",
        "\n",
        "\n",
        "### 5. **$F_\\beta$ -Score**\n",
        "- **What it tells**: Balance between precision and recall  \n",
        "- **Formula**:  \n",
        "  $F_\\beta Score = (1+ \\beta^2) \\times (\\frac{\\text{Precision × Recall}}{\\text{Precision + Recall}})$\n",
        "- Useful when we need both precision & recall\n",
        "\n",
        "### 6. **False Positive Rate**\n",
        "- **What it tells**: Out of all actual 0, how many are predicted 1\n",
        "- **Formula**:  \n",
        "  $\\text{FPR} = \\frac{\\text{False Positives}}{\\text{False Positives + True Negatives }}$\n",
        "\n",
        "### 7. **True Negative Rate(SPECIFICITY)**\n",
        "- **What it tells**: Out of all actual 0, how many are actually predicted 0\n",
        "- **Formula**:  \n",
        "  $\\text{TNR} = \\frac{\\text{True Negatives}}{\\text{True Negatives + False Positives}} = 1 - FPR$\n",
        "\n",
        "### 8. **ROC-AUC (Receiver Operating Characteristic - Area Under Curve)**\n",
        "- **AUC** tells how well the model separates classes  \n",
        "- 1 = perfect, 0.5 = random guessing\n",
        "- Higher the AUR better the model will be"
      ],
      "metadata": {
        "id": "Kfb9iDE4Vtwj"
      }
    },
    {
      "cell_type": "markdown",
      "source": [
        "## Q12. How does class imbalance affect Logistic Regression?"
      ],
      "metadata": {
        "id": "2uFIMfuFeAHf"
      }
    },
    {
      "cell_type": "markdown",
      "source": [
        "## ANS 12.\n",
        "\n",
        "**Class imbalance** affects **Logistic Regression** by making it **biased toward the majority class**.\n",
        "\n",
        "- Logistic Regression tries to **minimize overall error**.\n",
        "- If 95% of our data is class 0 and only 5% is class 1, the model may just predict everything as class 0 and still get 95% accuracy!\n",
        "\n",
        "### Effects:\n",
        "1. High accuracy, poor performance on minority class  \n",
        "2. Low recall (sensitivity) for the rare class (e.g., missing fraud or disease cases)\n"
      ],
      "metadata": {
        "id": "qiqTZwGneGz_"
      }
    },
    {
      "cell_type": "markdown",
      "source": [
        "## Q13. What is Hyperparameter Tuning in Logistic Regression?"
      ],
      "metadata": {
        "id": "cmt6D14LfhIp"
      }
    },
    {
      "cell_type": "markdown",
      "source": [
        "## ANS 13.\n",
        "\n",
        "**Hyperparameter tuning** in Logistic Regression means **adjusting settings** that control how the model learns, to improve performance.\n",
        "\n",
        "###  Key Hyperparameters:\n",
        "1. **Regularization strength (C)**  \n",
        "   - Inverse of $\\lambda (C = 1/ \\lambda$)\n",
        "   - Smaller C = stronger regularization (simpler model)\n",
        "\n",
        "2. **Penalty type**  \n",
        "   - `'l1'` (Lasso), `'l2'` (Ridge), or `'elasticnet'`\n",
        "\n",
        "3. **Solver**  \n",
        "   - Optimization algorithm (e.g., `'liblinear'`, `'saga'`)\n",
        "\n",
        "\n",
        "###  Why tune them?\n",
        "- To find the best combo that gives **high accuracy**, **good generalization**, and **low overfitting**.\n",
        "\n",
        "\n",
        "###  How to tune:\n",
        "- Use methods like **Grid Search** or **Random Search**  \n",
        "- Often combined with **Cross-Validation**"
      ],
      "metadata": {
        "id": "yEQ_Pt21f60i"
      }
    },
    {
      "cell_type": "markdown",
      "source": [
        "## Q14. What are different solvers in Logistic Regression? Which one should be used?"
      ],
      "metadata": {
        "id": "iSTgSyCPhX6k"
      }
    },
    {
      "cell_type": "markdown",
      "source": [
        "## ANS 14.\n",
        "\n",
        "Different solvers in Logistic Regression are:\n",
        "\n",
        "1. **liblinear**\n",
        "\n",
        "2. **saga**\n",
        "\n",
        "3. **lbfgs**\n",
        "\n",
        "4. **newton-cg**\n",
        "\n",
        "5. **sag**\n",
        "\n",
        "\n",
        "### Which solver should we use?\n",
        "- **For small datasets or L1 regularization**:  **`liblinear`**.\n",
        "- **For large datasets or Elastic Net**:  **`saga`**.\n",
        "- **For medium to large datasets with L2 regularization**:  **`lbfgs`**.\n",
        "- **For multinomial classification**:  **`newton-cg`**.\n",
        "- **For very large datasets with L2 regularization**:  **`sag`**.\n",
        "\n",
        "In general, **`lbfgs`** and **`saga`** are the most commonly used solvers."
      ],
      "metadata": {
        "id": "eR516-1Qhj4c"
      }
    },
    {
      "cell_type": "markdown",
      "source": [
        "## Q15.  How is Logistic Regression extended for multiclass classification?"
      ],
      "metadata": {
        "id": "Hz3t_vBtj-G9"
      }
    },
    {
      "cell_type": "markdown",
      "source": [
        "## ANS 15.\n",
        "\n",
        "**Logistic Regression** can be extended for **multiclass classification** using two main strategies:\n",
        "\n",
        "### 1. **One-vs-Rest (OvR)**\n",
        "- **Idea**: For \\( K \\) classes, train \\( K \\) binary classifiers, each one distinguishing a specific class from the rest.\n",
        "- **Process**:\n",
        "  - Each classifier predicts whether the instance belongs to the \"class of interest\" (1) or not (0).\n",
        "  - At prediction time, the model with the highest probability decides the class.\n",
        "  \n",
        "  **Example**: For a 3-class problem (A, B, C),  we'd train 3 classifiers:\n",
        "  - Classifier 1: A vs. (B, C)\n",
        "  - Classifier 2: B vs. (A, C)\n",
        "  - Classifier 3: C vs. (A, B)\n",
        "  \n",
        "  When predicting, the classifier that gives the highest probability chooses the class.\n",
        "\n",
        "### 2. **Multinomial (Softmax) Logistic Regression**\n",
        "- Multinomial Logistic Regression directly handles multiclass classification by using the softmax function to predict probabilities for each class in a single step. The model computes one set of probabilities for all classes, and the class with the highest probability is chosen.\n",
        "  \n",
        "  **Example**: In a 3-class classification problem, instead of computing separate binary decisions, the model computes a set of probabilities for all 3 classes, and the class with the highest probability is chosen."
      ],
      "metadata": {
        "id": "5PWJwHd0kHJ8"
      }
    },
    {
      "cell_type": "markdown",
      "source": [
        "## Q16. What are the advantages and disadvantages of Logistic Regression?"
      ],
      "metadata": {
        "id": "hgEhzJ1El5tQ"
      }
    },
    {
      "cell_type": "markdown",
      "source": [
        "## ANS 16.\n",
        "\n",
        "### **Advantages of Logistic Regression**:\n",
        "\n",
        "1. **Simplicity & Interpretability**:\n",
        "   - Easy to understand and interpret.\n",
        "   - Coefficients can show the relationship between input features and the outcome.\n",
        "\n",
        "2. **Fast to Train**: Computationally efficient, works well on small to medium datasets.\n",
        "\n",
        "3. **Probabilistic Output**: Provides probabilities (not just class labels), which can be useful in decision-making processes.\n",
        "\n",
        "4. **Less Prone to Overfitting**: With regularization (L1, L2), it can handle overfitting, especially for simpler models.\n",
        "\n",
        "\n",
        "### **Disadvantages of Logistic Regression**:\n",
        "\n",
        "1. **Assumes Linearity**: Assumes a **linear relationship** between input features and the log-odds of the outcome, which may not hold for complex data.\n",
        "\n",
        "2. **Sensitive to Outliers**: Logistic regression can be **sensitive to outliers**, as outliers can disproportionately affect model coefficients.\n",
        "\n",
        "3. **Requires Feature Engineering**: It assumes that the features are linearly related to the target, so complex features may require transformation (e.g., polynomial features) for better results.\n",
        "\n",
        "4. **Imbalanced Data Issues**: In case of highly imbalanced classes, logistic regression may be biased toward the majority class unless adjustments (like class weighting) are made."
      ],
      "metadata": {
        "id": "TnZnaMSDmBB4"
      }
    },
    {
      "cell_type": "markdown",
      "source": [
        "## Q17. What are some use cases of Logistic Regression?"
      ],
      "metadata": {
        "id": "8w6NU_AToZjI"
      }
    },
    {
      "cell_type": "markdown",
      "source": [
        "## ANS 17.\n",
        "\n",
        "**Logistic Regression** is widely used in various fields for **binary classification** tasks, where the goal is to predict one of two possible outcomes:\n",
        "\n",
        "### 1. **Medical Diagnosis**\n",
        "   - **Example**: Predicting whether a patient has a particular disease (e.g., cancer: yes/no).\n",
        "  \n",
        "### 2. **Credit Scoring**\n",
        "   - **Example**: Predicting whether a borrower will default on a loan (yes/no).\n",
        "\n",
        "### 3. **Email Spam Detection**\n",
        "   - **Example**: Classifying emails as spam or not spam.\n",
        "\n",
        "### 4. **Customer Churn Prediction**\n",
        "   - **Example**: Predicting whether a customer will leave a service (e.g., telecom, subscription services).\n",
        "   - **Why**: Helps businesses identify at-risk customers and take action to retain them.\n",
        "\n",
        "### 5. **Marketing Campaign Effectiveness**\n",
        "   - **Example**: Predicting whether a customer will respond to a marketing campaign (yes/no)."
      ],
      "metadata": {
        "id": "b8CtwCV5ogTv"
      }
    },
    {
      "cell_type": "markdown",
      "source": [
        "## Q18. What is the difference between Softmax Regression and Logistic Regression?"
      ],
      "metadata": {
        "id": "AM1TDrVXpv2h"
      }
    },
    {
      "cell_type": "markdown",
      "source": [
        "## ANS 18.\n",
        "\n",
        "###  **Difference between Softmax Regression and Logistic Regression**:\n",
        "\n",
        "\n",
        "### **1. Logistic Regression**  \n",
        "- **Used for**: **Binary classification** (2 classes: e.g., yes/no, 0/1)  \n",
        "- **Activation function**: **Sigmoid**  \n",
        "- **Output**: Probability of one class (e.g., class 1), then threshold (e.g., 0.5) to decide\n",
        "\n",
        "\n",
        "### **2. Softmax Regression (Multinomial Logistic Regression)**  \n",
        "- **Used for**: **Multiclass classification** (3 or more classes)  \n",
        "- **Activation function**: **Softmax**  \n",
        "- **Output**: Probability distribution over **all classes**, picks the class with the highest probability\n"
      ],
      "metadata": {
        "id": "Z1FAT6frp4gI"
      }
    },
    {
      "cell_type": "markdown",
      "source": [
        "## Q19.  How do we choose between One-vs-Rest (OvR) and Softmax for multiclass classification?"
      ],
      "metadata": {
        "id": "ITU1TG_ZqrnP"
      }
    },
    {
      "cell_type": "markdown",
      "source": [
        "## ANS 19.\n",
        "\n",
        "\n",
        "###  **Use One-vs-Rest (OvR)** when:\n",
        "- We have a **large number of classes**\n",
        "- We want **simplicity** or faster training\n",
        "- We’re using models that **only support binary classification**\n",
        "\n",
        "\n",
        "###  **Use Softmax (Multinomial Logistic Regression)** when:\n",
        "- We want a **single model** that handles all classes at once\n",
        "- Our classes are **mutually exclusive**\n",
        "- We prefer a **more mathematically elegant** solution with better **probability estimates**"
      ],
      "metadata": {
        "id": "ddagEhEiqzlO"
      }
    },
    {
      "cell_type": "markdown",
      "source": [
        "## Q20. How do we interpret coefficients in Logistic Regression?"
      ],
      "metadata": {
        "id": "kXJUoLIOsTDw"
      }
    },
    {
      "cell_type": "markdown",
      "source": [
        "## ANS 20.\n",
        "\n",
        "\n",
        "###  Step-by-step Interpretation:\n",
        "\n",
        "1. **Raw Coefficient ($\\beta$)**:\n",
        "   - Shows how much the **log-odds** change with a 1-unit increase in the feature, **holding other features constant**.\n",
        "   - Positive  $\\beta$: Increases the log-odds → higher chance of class 1  \n",
        "   - Negative  $\\beta$ : Decreases the log-odds → lower chance of class 1\n",
        "\n",
        "2. **Exponentiated Coefficient**  $e^{\\beta}$ :  \n",
        "   - Converts log-odds change into an **odds ratio**\n",
        "   - If  $e^{\\beta} > 1$ : Feature **increases** the odds of class 1  \n",
        "   - If  $e^{\\beta} < 1$ : Feature **decreases** the odds of class 1  \n",
        "   - If  $e^{\\beta} = 1$ : No effect\n",
        "\n",
        "\n",
        "###  Example:\n",
        "If a coefficient for \"age\" is 0.4:\n",
        "- Log-odds increase by 0.4 for each 1-year increase in age.\n",
        "- Odds of class 1 increase by $e^{0.4} ≈ 1.49$ , or **49% higher odds** per year."
      ],
      "metadata": {
        "id": "_UO_VWK8sbqg"
      }
    },
    {
      "cell_type": "markdown",
      "source": [
        "# **PRACTICAL QUESTIONS**"
      ],
      "metadata": {
        "id": "NlDDVij0vXoE"
      }
    },
    {
      "cell_type": "code",
      "source": [
        "import numpy as np\n",
        "import pandas as pd\n",
        "import matplotlib.pyplot as plt\n",
        "import seaborn as sns\n",
        "import warnings\n",
        "warnings.filterwarnings('ignore')\n",
        "\n",
        "\n",
        "from sklearn.model_selection import train_test_split\n",
        "from sklearn.linear_model import LogisticRegression\n",
        "from sklearn.metrics import accuracy_score, precision_score, recall_score, f1_score, roc_auc_score, confusion_matrix, roc_curve\n",
        "from sklearn.metrics import classification_report"
      ],
      "metadata": {
        "id": "40CRAQiCxog7"
      },
      "execution_count": 42,
      "outputs": []
    },
    {
      "cell_type": "markdown",
      "source": [
        "## Q1. Write a Python program that loads a dataset, splits it into training and testing sets, applies Logistic Regression, and prints the model accuracy."
      ],
      "metadata": {
        "id": "JyPiD5NQvf28"
      }
    },
    {
      "cell_type": "code",
      "source": [
        "from sklearn.datasets import load_iris\n",
        "iris = load_iris()\n",
        "X = iris.data\n",
        "y = iris.target\n",
        "\n",
        "X_train, X_test, y_train, y_test = train_test_split(X, y, test_size=0.3, random_state=1)\n",
        "\n",
        "model = LogisticRegression(max_iter=200)\n",
        "model.fit(X_train, y_train)\n",
        "\n",
        "y_pred = model.predict(X_test)\n",
        "\n",
        "accuracy = accuracy_score(y_test, y_pred)\n",
        "print(\"Logistic Regression Model Accuracy:\", round(accuracy * 100, 2), \"%\")"
      ],
      "metadata": {
        "colab": {
          "base_uri": "https://localhost:8080/"
        },
        "id": "W9Eiv5jGv3WO",
        "outputId": "c144cc5a-a402-46c3-a06d-a2fbcf8553f9"
      },
      "execution_count": 6,
      "outputs": [
        {
          "output_type": "stream",
          "name": "stdout",
          "text": [
            "Logistic Regression Model Accuracy: 97.78 %\n"
          ]
        }
      ]
    },
    {
      "cell_type": "markdown",
      "source": [
        "## Q2. Write a Python program to apply L1 regularization (Lasso) on a dataset using LogisticRegression(penalty='l1') and print the model accuracy."
      ],
      "metadata": {
        "id": "4ADMNv3nw7o9"
      }
    },
    {
      "cell_type": "code",
      "source": [
        "from sklearn.datasets import load_iris\n",
        "iris = load_iris()\n",
        "X = iris.data\n",
        "y = iris.target\n",
        "\n",
        "X_train, X_test, y_train, y_test = train_test_split(X, y, test_size=0.3, random_state=1)\n",
        "\n",
        "model = LogisticRegression(penalty='l1', solver='liblinear')\n",
        "model.fit(X_train, y_train)\n",
        "\n",
        "y_pred = model.predict(X_test)\n",
        "\n",
        "accuracy = accuracy_score(y_test, y_pred)\n",
        "print(\"Logistic Regression with L1 Regularization Accuracy:\", round(accuracy * 100, 2), \"%\")"
      ],
      "metadata": {
        "colab": {
          "base_uri": "https://localhost:8080/"
        },
        "id": "BF_fsb7yxHCt",
        "outputId": "3b34649b-1175-4e04-f05e-cc7951a7f4dc"
      },
      "execution_count": 7,
      "outputs": [
        {
          "output_type": "stream",
          "name": "stdout",
          "text": [
            "Logistic Regression with L1 Regularization Accuracy: 93.33 %\n"
          ]
        }
      ]
    },
    {
      "cell_type": "markdown",
      "source": [
        "## Q3. Write a Python program to train Logistic Regression with L2 regularization (Ridge) using LogisticRegression(penalty='l2'). Print model accuracy and coefficients."
      ],
      "metadata": {
        "id": "hV3-hFvly-sS"
      }
    },
    {
      "cell_type": "code",
      "source": [
        "from sklearn.datasets import load_iris\n",
        "iris = load_iris()\n",
        "X = iris.data\n",
        "y = iris.target\n",
        "\n",
        "X_train, X_test, y_train, y_test = train_test_split(X, y, test_size=0.3, random_state=1)\n",
        "\n",
        "model = LogisticRegression(penalty='l2', solver='lbfgs', max_iter=200, multi_class='auto')\n",
        "model.fit(X_train, y_train)\n",
        "\n",
        "y_pred = model.predict(X_test)\n",
        "\n",
        "accuracy = accuracy_score(y_test, y_pred)\n",
        "print(\"Logistic Regression with L2 Regularization Accuracy:\", round(accuracy * 100, 2), \"%\")\n",
        "\n",
        "print(\"\\nModel Coefficients:\")\n",
        "for i, coef in enumerate(model.coef_):\n",
        "    print(f\"Class {i}: {coef}\")"
      ],
      "metadata": {
        "colab": {
          "base_uri": "https://localhost:8080/"
        },
        "id": "O7wbyBnyzJ8q",
        "outputId": "6f572b08-25a6-400f-9d62-62010d866a80"
      },
      "execution_count": 21,
      "outputs": [
        {
          "output_type": "stream",
          "name": "stdout",
          "text": [
            "Logistic Regression with L2 Regularization Accuracy: 97.78 %\n",
            "\n",
            "Model Coefficients:\n",
            "Class 0: [-0.4346298   0.76021294 -2.24087351 -0.93260619]\n",
            "Class 1: [ 0.57993789 -0.53810954 -0.1299831  -0.79998699]\n",
            "Class 2: [-0.14530809 -0.2221034   2.37085661  1.73259318]\n"
          ]
        }
      ]
    },
    {
      "cell_type": "markdown",
      "source": [
        "## Q4. Write a Python program to train Logistic Regression with Elastic Net Regularization (penalty='elasticnet')."
      ],
      "metadata": {
        "id": "ayYDfbTI0mHT"
      }
    },
    {
      "cell_type": "code",
      "source": [
        "from sklearn.datasets import load_iris\n",
        "iris = load_iris()\n",
        "X = iris.data\n",
        "y = iris.target\n",
        "\n",
        "X_train, X_test, y_train, y_test = train_test_split(X, y, test_size=0.3, random_state=1)\n",
        "\n",
        "model = LogisticRegression(penalty='elasticnet', solver='saga', l1_ratio=0.5, max_iter=200)\n",
        "model.fit(X_train, y_train)\n",
        "\n",
        "y_pred = model.predict(X_test)\n",
        "\n",
        "accuracy = accuracy_score(y_test, y_pred)\n",
        "print(\"Logistic Regression with Elastic Net Regularization Accuracy:\", round(accuracy * 100, 2), \"%\")"
      ],
      "metadata": {
        "colab": {
          "base_uri": "https://localhost:8080/"
        },
        "id": "xLUSCElp0syz",
        "outputId": "4dc1a5ae-f70d-41cf-cba2-ac7ae6140717"
      },
      "execution_count": 9,
      "outputs": [
        {
          "output_type": "stream",
          "name": "stdout",
          "text": [
            "Logistic Regression with Elastic Net Regularization Accuracy: 97.78 %\n"
          ]
        }
      ]
    },
    {
      "cell_type": "markdown",
      "source": [
        "## Q5. Write a Python program to train a Logistic Regression model for multiclass classification using multi_class='ovr'."
      ],
      "metadata": {
        "id": "kIbdg91l2bDn"
      }
    },
    {
      "cell_type": "code",
      "source": [
        "from sklearn.datasets import load_iris\n",
        "iris = load_iris()\n",
        "X = iris.data\n",
        "y = iris.target\n",
        "\n",
        "X_train, X_test, y_train, y_test = train_test_split(X, y, test_size=0.3, random_state=1)\n",
        "\n",
        "model = LogisticRegression(multi_class='ovr', solver='liblinear', max_iter=200)\n",
        "model.fit(X_train, y_train)\n",
        "\n",
        "y_pred = model.predict(X_test)\n",
        "\n",
        "accuracy = accuracy_score(y_test, y_pred)\n",
        "print(\"Multiclass Logistic Regression (OvR) Accuracy:\", round(accuracy * 100, 2), \"%\")"
      ],
      "metadata": {
        "colab": {
          "base_uri": "https://localhost:8080/"
        },
        "id": "CvZnnHv72hZg",
        "outputId": "d1dea876-6b13-4158-98bc-ab8683a0e78e"
      },
      "execution_count": 10,
      "outputs": [
        {
          "output_type": "stream",
          "name": "stdout",
          "text": [
            "Multiclass Logistic Regression (OvR) Accuracy: 88.89 %\n"
          ]
        }
      ]
    },
    {
      "cell_type": "markdown",
      "source": [
        "## Q6. Write a Python program to apply GridSearchCV to tune the hyperparameters (C and penalty) of Logistic Regression. Print the best parameters and accuracy."
      ],
      "metadata": {
        "id": "1cba_Ji3tyaL"
      }
    },
    {
      "cell_type": "code",
      "source": [
        "from sklearn.datasets import load_iris\n",
        "iris = load_iris()\n",
        "X = iris.data\n",
        "y = iris.target\n",
        "\n",
        "from sklearn.model_selection import GridSearchCV, train_test_split\n",
        "X_train, X_test, y_train, y_test = train_test_split(X, y, test_size=0.2, random_state=1)\n",
        "\n",
        "logreg = LogisticRegression(solver='liblinear', multi_class='auto')\n",
        "\n",
        "param_grid = {\n",
        "    'C': [0.01, 0.1, 1, 10, 100],\n",
        "    'penalty': ['l1', 'l2']}\n",
        "\n",
        "grid_search = GridSearchCV(estimator=logreg, param_grid=param_grid, cv=5, scoring='accuracy')\n",
        "\n",
        "grid_search.fit(X_train, y_train)\n",
        "y_pred = grid_search.predict(X_test)\n",
        "\n",
        "print(\"Best parameters:\", grid_search.best_params_)\n",
        "print(\"Test set accuracy:\", accuracy_score(y_test, y_pred))"
      ],
      "metadata": {
        "colab": {
          "base_uri": "https://localhost:8080/"
        },
        "id": "nKD1xI8Qt8Oz",
        "outputId": "41f0d6a2-2670-4bfd-c012-17056c4c2e4d"
      },
      "execution_count": 11,
      "outputs": [
        {
          "output_type": "stream",
          "name": "stdout",
          "text": [
            "Best parameters: {'C': 10, 'penalty': 'l2'}\n",
            "Test set accuracy: 0.9333333333333333\n"
          ]
        }
      ]
    },
    {
      "cell_type": "markdown",
      "source": [
        "## Q7. Write a Python program to evaluate Logistic Regression using Stratified K-Fold Cross-Validation. Print the average accuracy."
      ],
      "metadata": {
        "id": "yeC8XvtRyV_G"
      }
    },
    {
      "cell_type": "code",
      "source": [
        "from sklearn.datasets import load_iris\n",
        "iris = load_iris()\n",
        "X = iris.data\n",
        "y = iris.target\n",
        "\n",
        "model = LogisticRegression(solver='liblinear', multi_class='auto')\n",
        "\n",
        "from sklearn.model_selection import StratifiedKFold, cross_val_score\n",
        "skf = StratifiedKFold(n_splits=5, shuffle=True, random_state=2)\n",
        "\n",
        "scores = cross_val_score(model, X, y, cv=skf, scoring='accuracy')\n",
        "\n",
        "print(\"Accuracies for each fold:\", scores)\n",
        "print(\"Average accuracy:\", np.mean(scores))"
      ],
      "metadata": {
        "colab": {
          "base_uri": "https://localhost:8080/"
        },
        "id": "9REPMvF8yhjI",
        "outputId": "36c58f74-907b-4427-cca3-27ac7f0bf405"
      },
      "execution_count": 22,
      "outputs": [
        {
          "output_type": "stream",
          "name": "stdout",
          "text": [
            "Accuracies for each fold: [0.96666667 0.96666667 1.         0.86666667 0.93333333]\n",
            "Average accuracy: 0.9466666666666667\n"
          ]
        }
      ]
    },
    {
      "cell_type": "markdown",
      "source": [
        "## Q8. Write a Python program to load a dataset from a CSV file, apply Logistic Regression, and evaluate its accuracy."
      ],
      "metadata": {
        "id": "DSANxn43zr-p"
      }
    },
    {
      "cell_type": "code",
      "source": [
        "df = pd.read_csv('dataset.csv')\n",
        "\n",
        "X = df.drop('target', axis=1)\n",
        "y = df['target']\n",
        "\n",
        "X_train, X_test, y_train, y_test = train_test_split(X, y, test_size=0.2, random_state=1)\n",
        "\n",
        "model = LogisticRegression(solver='liblinear')\n",
        "model.fit(X_train, y_train)\n",
        "\n",
        "y_pred = model.predict(X_test)\n",
        "\n",
        "accuracy = accuracy_score(y_test, y_pred)\n",
        "print(\"Accuracy on test set:\", accuracy)"
      ],
      "metadata": {
        "id": "-Wcy2Qr5285j"
      },
      "execution_count": null,
      "outputs": []
    },
    {
      "cell_type": "markdown",
      "source": [
        "## Q9. Write a Python program to apply RandomizedSearchCV for tuning hyperparameters (C, penalty, solver) in Logistic Regression. Print the best parameters and accuracy."
      ],
      "metadata": {
        "id": "7KgoV88f2-ST"
      }
    },
    {
      "cell_type": "code",
      "source": [
        "from sklearn.datasets import load_iris\n",
        "iris = load_iris()\n",
        "X = iris.data\n",
        "y = iris.target\n",
        "\n",
        "X_train, X_test, y_train, y_test = train_test_split(X, y, test_size=0.2, random_state=1)\n",
        "\n",
        "model = LogisticRegression(max_iter=1000)\n",
        "params = {'C': np.logspace(-4, 4, 10), 'penalty': ['l1', 'l2'], 'solver': ['liblinear', 'saga']}\n",
        "\n",
        "from sklearn.model_selection import RandomizedSearchCV\n",
        "search = RandomizedSearchCV(model, params, n_iter=10, cv=5, scoring='accuracy', random_state=1)\n",
        "search.fit(X_train, y_train)\n",
        "\n",
        "print(\"Best params:\", search.best_params_)\n",
        "print(\"Test accuracy:\", accuracy_score(y_test, search.predict(X_test)))"
      ],
      "metadata": {
        "colab": {
          "base_uri": "https://localhost:8080/"
        },
        "id": "3lbea_DH7y3C",
        "outputId": "83c6e9bf-b0d8-4b36-c3a7-bd97e1b10e2b"
      },
      "execution_count": 14,
      "outputs": [
        {
          "output_type": "stream",
          "name": "stdout",
          "text": [
            "Best params: {'solver': 'saga', 'penalty': 'l1', 'C': np.float64(2.782559402207126)}\n",
            "Test accuracy: 1.0\n"
          ]
        }
      ]
    },
    {
      "cell_type": "markdown",
      "source": [
        "## Q10. Write a Python program to implement One-vs-One (OvO) Multiclass Logistic Regression and print accuracy."
      ],
      "metadata": {
        "id": "ki8wnu4_8guG"
      }
    },
    {
      "cell_type": "code",
      "source": [
        "from sklearn.datasets import load_iris\n",
        "iris = load_iris()\n",
        "X = iris.data\n",
        "y = iris.target\n",
        "\n",
        "X_train, X_test, y_train, y_test = train_test_split(X, y, test_size=0.2, random_state=1)\n",
        "\n",
        "from sklearn.multiclass import OneVsOneClassifier\n",
        "model = OneVsOneClassifier(LogisticRegression(solver='liblinear'))\n",
        "model.fit(X_train, y_train)\n",
        "\n",
        "y_pred = model.predict(X_test)\n",
        "\n",
        "accuracy = accuracy_score(y_test, y_pred)\n",
        "print(\"One-vs-One Logistic Regression accuracy:\", accuracy)"
      ],
      "metadata": {
        "colab": {
          "base_uri": "https://localhost:8080/"
        },
        "id": "YtQ_eNqT8nZ2",
        "outputId": "7e024ff4-7667-42d3-a930-8f18a64117f8"
      },
      "execution_count": 23,
      "outputs": [
        {
          "output_type": "stream",
          "name": "stdout",
          "text": [
            "One-vs-One Logistic Regression accuracy: 0.9666666666666667\n"
          ]
        }
      ]
    },
    {
      "cell_type": "markdown",
      "source": [
        "## Q11. Write a Python program to train a Logistic Regression model and visualize the confusion matrix for binary classification."
      ],
      "metadata": {
        "id": "eXH9fgTg9LiS"
      }
    },
    {
      "cell_type": "code",
      "source": [
        "from sklearn.datasets import load_breast_cancer\n",
        "Data = load_breast_cancer()\n",
        "X = Data.data\n",
        "y = Data.target\n",
        "\n",
        "X_train, X_test, y_train, y_test = train_test_split(X, y, test_size=0.2, random_state=1)\n",
        "\n",
        "model = LogisticRegression(max_iter=1000)\n",
        "model.fit(X_train, y_train)\n",
        "\n",
        "y_pred = model.predict(X_test)\n",
        "\n",
        "cm = confusion_matrix(y_test, y_pred)\n",
        "print(\"Accuracy:\", accuracy_score(y_test, y_pred))\n",
        "\n",
        "plt.figure(figsize=(6, 4))\n",
        "sns.heatmap(cm, annot=True, fmt='d', cmap='Blues', xticklabels=[\"Pred 0\", \"Pred 1\"], yticklabels=[\"Actual 0\", \"Actual 1\"])\n",
        "plt.title(\"Confusion Matrix\")\n",
        "plt.xlabel(\"Predicted Label\")\n",
        "plt.ylabel(\"True Label\")\n",
        "plt.show()"
      ],
      "metadata": {
        "colab": {
          "base_uri": "https://localhost:8080/",
          "height": 427
        },
        "id": "3HMql2JZ9aQj",
        "outputId": "a3954987-4d4c-4f01-f546-8af8389d5971"
      },
      "execution_count": 26,
      "outputs": [
        {
          "output_type": "stream",
          "name": "stdout",
          "text": [
            "Accuracy: 0.956140350877193\n"
          ]
        },
        {
          "output_type": "display_data",
          "data": {
            "text/plain": [
              "<Figure size 600x400 with 2 Axes>"
            ],
            "image/png": "[encoded data removed]"
          },
          "metadata": {}
        }
      ]
    },
    {
      "cell_type": "markdown",
      "source": [
        "## Q12. Write a Python program to train a Logistic Regression model and evaluate its performance using Precision, Recall, and F1-Score.\n"
      ],
      "metadata": {
        "id": "GDest4gc_QYP"
      }
    },
    {
      "cell_type": "code",
      "source": [
        "from sklearn.datasets import load_breast_cancer\n",
        "Data = load_breast_cancer()\n",
        "X = Data.data\n",
        "y = Data.target\n",
        "\n",
        "X_train, X_test, y_train, y_test = train_test_split(X, y, test_size=0.2, random_state=1)\n",
        "\n",
        "model = LogisticRegression(max_iter=1000)\n",
        "model.fit(X_train, y_train)\n",
        "\n",
        "y_pred = model.predict(X_test)\n",
        "\n",
        "precision = precision_score(y_test, y_pred)\n",
        "recall = recall_score(y_test, y_pred)\n",
        "f1 = f1_score(y_test, y_pred)\n",
        "\n",
        "print(\"Precision:\", precision)\n",
        "print(\"Recall:\", recall)\n",
        "print(\"F1-Score:\", f1)"
      ],
      "metadata": {
        "colab": {
          "base_uri": "https://localhost:8080/"
        },
        "id": "27HpME5Q_ZwP",
        "outputId": "c083e9a5-9e4c-4724-b24d-a043a9f09236"
      },
      "execution_count": 19,
      "outputs": [
        {
          "output_type": "stream",
          "name": "stdout",
          "text": [
            "Precision: 0.935064935064935\n",
            "Recall: 1.0\n",
            "F1-Score: 0.9664429530201343\n"
          ]
        }
      ]
    },
    {
      "cell_type": "markdown",
      "source": [
        "## Q13. Write a Python program to train a Logistic Regression model on imbalanced data and apply class weights to improve model performance."
      ],
      "metadata": {
        "id": "zbAnmu8LABhk"
      }
    },
    {
      "cell_type": "code",
      "source": [
        "from sklearn.datasets import make_classification\n",
        "X, y = make_classification(n_samples=1000, n_features=20, n_classes=2, weights=[0.9, 0.1], flip_y=0, random_state=1)\n",
        "\n",
        "X_train, X_test, y_train, y_test = train_test_split(X, y, test_size=0.2, random_state=1)\n",
        "\n",
        "model_no_weights = LogisticRegression(max_iter=1000)\n",
        "model_no_weights.fit(X_train, y_train)\n",
        "y_pred_no_weights = model_no_weights.predict(X_test)\n",
        "\n",
        "print(\"Without class weights:\")\n",
        "print(classification_report(y_test, y_pred_no_weights))\n",
        "\n",
        "model_with_weights = LogisticRegression(class_weight='balanced', max_iter=1000)\n",
        "model_with_weights.fit(X_train, y_train)\n",
        "y_pred_with_weights = model_with_weights.predict(X_test)\n",
        "\n",
        "print(\"With class weights:\")\n",
        "print(classification_report(y_test, y_pred_with_weights))"
      ],
      "metadata": {
        "colab": {
          "base_uri": "https://localhost:8080/"
        },
        "id": "jwJGm-xDAK7l",
        "outputId": "8d58bb51-6e62-4eb0-d714-28cab07ffe98"
      },
      "execution_count": 27,
      "outputs": [
        {
          "output_type": "stream",
          "name": "stdout",
          "text": [
            "Without class weights:\n",
            "              precision    recall  f1-score   support\n",
            "\n",
            "           0       0.95      0.97      0.96       181\n",
            "           1       0.62      0.53      0.57        19\n",
            "\n",
            "    accuracy                           0.93       200\n",
            "   macro avg       0.79      0.75      0.77       200\n",
            "weighted avg       0.92      0.93      0.92       200\n",
            "\n",
            "With class weights:\n",
            "              precision    recall  f1-score   support\n",
            "\n",
            "           0       0.98      0.85      0.91       181\n",
            "           1       0.37      0.84      0.52        19\n",
            "\n",
            "    accuracy                           0.85       200\n",
            "   macro avg       0.68      0.85      0.71       200\n",
            "weighted avg       0.92      0.85      0.87       200\n",
            "\n"
          ]
        }
      ]
    },
    {
      "cell_type": "markdown",
      "source": [
        "## Q14. Write a Python program to train Logistic Regression on the Titanic dataset, handle missing values, and evaluate performance."
      ],
      "metadata": {
        "id": "6ZgpqyvfKf4F"
      }
    },
    {
      "cell_type": "code",
      "source": [
        "df = sns.load_dataset('titanic')\n",
        "\n",
        "# Dropping columns with too many missing or irrelevant information\n",
        "df = df.drop(columns=['deck', 'embark_town', 'alive', 'who', 'adult_male', 'class'])\n",
        "\n",
        "# Dropping rows with missing target\n",
        "df = df.dropna(subset=['survived'])\n",
        "\n",
        "# Filling missing values\n",
        "df['age'] = df['age'].fillna(df['age'].median())\n",
        "df['embarked'] = df['embarked'].fillna(df['embarked'].mode()[0])\n",
        "\n",
        "from sklearn.preprocessing import LabelEncoder\n",
        "label_encoders = {}\n",
        "for col in ['sex', 'embarked']:\n",
        "    le = LabelEncoder()\n",
        "    df[col] = le.fit_transform(df[col])\n",
        "    label_encoders[col] = le\n",
        "\n",
        "X = df.drop(columns='survived')\n",
        "y = df['survived']\n",
        "\n",
        "X_train, X_test, y_train, y_test = train_test_split(X, y, test_size=0.2, random_state=1)\n",
        "\n",
        "model = LogisticRegression(max_iter=1000)\n",
        "model.fit(X_train, y_train)\n",
        "\n",
        "y_pred = model.predict(X_test)\n",
        "\n",
        "print(\"Performance on Titanic Dataset:\\n\")\n",
        "print(classification_report(y_test, y_pred))"
      ],
      "metadata": {
        "colab": {
          "base_uri": "https://localhost:8080/"
        },
        "id": "0wyuo9kxLAYQ",
        "outputId": "f007ef14-d2f6-4bbd-8683-61c03432eac5"
      },
      "execution_count": 30,
      "outputs": [
        {
          "output_type": "stream",
          "name": "stdout",
          "text": [
            "Performance on Titanic Dataset:\n",
            "\n",
            "              precision    recall  f1-score   support\n",
            "\n",
            "           0       0.81      0.86      0.83       106\n",
            "           1       0.77      0.70      0.73        73\n",
            "\n",
            "    accuracy                           0.79       179\n",
            "   macro avg       0.79      0.78      0.78       179\n",
            "weighted avg       0.79      0.79      0.79       179\n",
            "\n"
          ]
        }
      ]
    },
    {
      "cell_type": "markdown",
      "source": [
        "## Q15. Write a Python program to apply feature scaling (Standardization) before training a Logistic Regression model. Evaluate its accuracy and compare results with and without scaling.\n"
      ],
      "metadata": {
        "id": "tpMISJ2MY_oX"
      }
    },
    {
      "cell_type": "code",
      "source": [
        "from sklearn.datasets import load_breast_cancer\n",
        "Data = load_breast_cancer()\n",
        "X = Data.data\n",
        "y = Data.target\n",
        "\n",
        "X_train, X_test, y_train, y_test = train_test_split(X, y, test_size=0.2, random_state=1)\n",
        "\n",
        "# Without Scaling\n",
        "model1 = LogisticRegression(max_iter=1000)\n",
        "model1.fit(X_train, y_train)\n",
        "pred1 = model1.predict(X_test)\n",
        "acc1 = accuracy_score(y_test, pred1)\n",
        "\n",
        "# With Scaling\n",
        "from sklearn.preprocessing import StandardScaler\n",
        "scaler = StandardScaler()\n",
        "X_train_scaled = scaler.fit_transform(X_train)\n",
        "X_test_scaled = scaler.transform(X_test)\n",
        "\n",
        "model2 = LogisticRegression(max_iter=1000)\n",
        "model2.fit(X_train_scaled, y_train)\n",
        "pred2 = model2.predict(X_test_scaled)\n",
        "acc2 = accuracy_score(y_test, pred2)\n",
        "\n",
        "print(\"Accuracy without scaling:\", acc1)\n",
        "print(\"Accuracy with scaling   :\", acc2)"
      ],
      "metadata": {
        "colab": {
          "base_uri": "https://localhost:8080/"
        },
        "id": "EigMAGwRZOQR",
        "outputId": "66b9c907-e5da-4bec-ff64-d8db3b03d412"
      },
      "execution_count": 40,
      "outputs": [
        {
          "output_type": "stream",
          "name": "stdout",
          "text": [
            "Accuracy without scaling: 0.956140350877193\n",
            "Accuracy with scaling   : 0.9736842105263158\n"
          ]
        }
      ]
    },
    {
      "cell_type": "markdown",
      "source": [
        "## Q16. Write a Python program to train Logistic Regression and evaluate its performance using ROC-AUC score."
      ],
      "metadata": {
        "id": "Pq6G_pP0aAd7"
      }
    },
    {
      "cell_type": "code",
      "source": [
        "from sklearn.datasets import load_breast_cancer\n",
        "Data = load_breast_cancer()\n",
        "X = Data.data\n",
        "y = Data.target\n",
        "\n",
        "X_train, X_test, y_train, y_test = train_test_split(X, y, test_size=0.2, random_state=1)\n",
        "\n",
        "model = LogisticRegression()\n",
        "model.fit(X_train, y_train)\n",
        "\n",
        "y_probs = model.predict_proba(X_test)[:, 1]\n",
        "\n",
        "roc_auc = roc_auc_score(y_test, y_probs)\n",
        "print(\"ROC-AUC Score:\", roc_auc)"
      ],
      "metadata": {
        "colab": {
          "base_uri": "https://localhost:8080/"
        },
        "id": "LD7S7_6nZ_ql",
        "outputId": "b2e2da8e-ec24-490b-e82e-8c8a8fc8f05f"
      },
      "execution_count": 59,
      "outputs": [
        {
          "output_type": "stream",
          "name": "stdout",
          "text": [
            "ROC-AUC Score: 0.9877645502645502\n"
          ]
        }
      ]
    },
    {
      "cell_type": "markdown",
      "source": [
        "## Q17. Write a Python program to train Logistic Regression using a custom learning rate (C=0.5) and evaluate accuracy."
      ],
      "metadata": {
        "id": "AiLaPMUhhgok"
      }
    },
    {
      "cell_type": "code",
      "source": [
        "from sklearn.datasets import load_breast_cancer\n",
        "Data = load_breast_cancer()\n",
        "X = Data.data\n",
        "y = Data.target\n",
        "\n",
        "X_train, X_test, y_train, y_test = train_test_split(X, y, test_size=0.2, random_state=1)\n",
        "model = LogisticRegression(C=0.5)\n",
        "model.fit(X_train, y_train)\n",
        "\n",
        "y_pred = model.predict(X_test)\n",
        "\n",
        "accuracy = accuracy_score(y_test, y_pred)\n",
        "\n",
        "print(\"Accuracy with C=0.5:\", accuracy)"
      ],
      "metadata": {
        "colab": {
          "base_uri": "https://localhost:8080/"
        },
        "id": "AyZaE1Ithpqc",
        "outputId": "ee5da19c-e3f0-4ee9-acee-958e953f14ed"
      },
      "execution_count": 57,
      "outputs": [
        {
          "output_type": "stream",
          "name": "stdout",
          "text": [
            "Accuracy with C=0.5: 0.9473684210526315\n"
          ]
        }
      ]
    },
    {
      "cell_type": "markdown",
      "source": [
        "## Q18. Write a Python program to train Logistic Regression and identify important features based on model coefficients."
      ],
      "metadata": {
        "id": "qwEyuQ_0jhNp"
      }
    },
    {
      "cell_type": "code",
      "source": [
        "from sklearn.datasets import load_breast_cancer\n",
        "Data = load_breast_cancer()\n",
        "X = Data.data\n",
        "y = Data.target\n",
        "feature_names = Data.feature_names\n",
        "\n",
        "X_train, X_test, y_train, y_test = train_test_split(X, y, test_size=0.2, random_state=1)\n",
        "\n",
        "model = LogisticRegression()\n",
        "model.fit(X_train, y_train)\n",
        "\n",
        "coefficients = model.coef_[0]\n",
        "feature_importance = pd.DataFrame({'Feature': feature_names, 'Coefficient': coefficients, 'Abs_Coefficient': abs(coefficients)})\n",
        "\n",
        "feature_importance = feature_importance.sort_values(by='Abs_Coefficient', ascending=False)\n",
        "\n",
        "print(\"Important Features Based on Model Coefficients:\")\n",
        "print(feature_importance[['Feature', 'Coefficient']])"
      ],
      "metadata": {
        "colab": {
          "base_uri": "https://localhost:8080/"
        },
        "id": "iJjCEErTjnqY",
        "outputId": "a3d980b0-6191-4bfc-a2f2-b508e833cb34"
      },
      "execution_count": 51,
      "outputs": [
        {
          "output_type": "stream",
          "name": "stdout",
          "text": [
            "Important Features Based on Model Coefficients:\n",
            "                    Feature  Coefficient\n",
            "20             worst radius     1.254037\n",
            "0               mean radius     1.086279\n",
            "26          worst concavity    -0.725623\n",
            "25        worst compactness    -0.553948\n",
            "21            worst texture    -0.425673\n",
            "1              mean texture     0.425324\n",
            "6            mean concavity    -0.273270\n",
            "11            texture error     0.249824\n",
            "12          perimeter error     0.228840\n",
            "27     worst concave points    -0.213818\n",
            "22          worst perimeter    -0.196498\n",
            "5          mean compactness    -0.190369\n",
            "28           worst symmetry    -0.151297\n",
            "7       mean concave points    -0.111770\n",
            "2            mean perimeter     0.107302\n",
            "13               area error    -0.076718\n",
            "16          concavity error    -0.065987\n",
            "10             radius error     0.065107\n",
            "24         worst smoothness    -0.060616\n",
            "8             mean symmetry    -0.053315\n",
            "29  worst fractal dimension    -0.044613\n",
            "15        compactness error    -0.043955\n",
            "4           mean smoothness    -0.035285\n",
            "23               worst area    -0.017914\n",
            "18           symmetry error    -0.016731\n",
            "17     concave points error    -0.016487\n",
            "9    mean fractal dimension    -0.009007\n",
            "3                 mean area    -0.007816\n",
            "14         smoothness error    -0.004142\n",
            "19  fractal dimension error    -0.004014\n"
          ]
        }
      ]
    },
    {
      "cell_type": "markdown",
      "source": [
        "## Q19.Write a Python program to train Logistic Regression and evaluate its performance using Cohen’s Kappa Score."
      ],
      "metadata": {
        "id": "15hul0hCkg_f"
      }
    },
    {
      "cell_type": "code",
      "source": [
        "from sklearn.datasets import load_breast_cancer\n",
        "Data = load_breast_cancer()\n",
        "X = Data.data\n",
        "y = Data.target\n",
        "\n",
        "X_train, X_test, y_train, y_test = train_test_split(X, y, test_size=0.2, random_state=1)\n",
        "\n",
        "model = LogisticRegression()\n",
        "model.fit(X_train, y_train)\n",
        "\n",
        "y_pred = model.predict(X_test)\n",
        "\n",
        "from sklearn.metrics import cohen_kappa_score\n",
        "kappa = cohen_kappa_score(y_test, y_pred)\n",
        "print(\"Cohen's Kappa Score:\", kappa)"
      ],
      "metadata": {
        "colab": {
          "base_uri": "https://localhost:8080/"
        },
        "id": "dyOP-lN2kpIO",
        "outputId": "27d3e313-8385-4228-865e-e79652fcc15a"
      },
      "execution_count": 55,
      "outputs": [
        {
          "output_type": "stream",
          "name": "stdout",
          "text": [
            "Cohen's Kappa Score: 0.8857715430861723\n"
          ]
        }
      ]
    },
    {
      "cell_type": "markdown",
      "source": [
        "## Q20. Write a Python program to train Logistic Regression and visualize the Precision-Recall Curve for binary classification."
      ],
      "metadata": {
        "id": "1SfU0IQ5lUAz"
      }
    },
    {
      "cell_type": "code",
      "source": [
        "from sklearn.datasets import load_breast_cancer\n",
        "Data = load_breast_cancer()\n",
        "X = Data.data\n",
        "y = Data.target\n",
        "\n",
        "X_train, X_test, y_train, y_test = train_test_split(X, y, test_size=0.2, random_state=1)\n",
        "\n",
        "model = LogisticRegression()\n",
        "model.fit(X_train, y_train)\n",
        "\n",
        "y_scores = model.predict_proba(X_test)[:, 1]\n",
        "\n",
        "from sklearn.metrics import precision_recall_curve, average_precision_score\n",
        "precision, recall, _ = precision_recall_curve(y_test, y_scores)\n",
        "avg_precision = average_precision_score(y_test, y_scores)\n",
        "\n",
        "plt.figure(figsize=(6, 4))\n",
        "plt.plot(recall, precision, label=f'Avg Precision = {avg_precision:.2f}')\n",
        "plt.xlabel('Recall')\n",
        "plt.ylabel('Precision')\n",
        "plt.title('Precision-Recall Curve')\n",
        "plt.legend()\n",
        "plt.grid(True)\n",
        "plt.show()"
      ],
      "metadata": {
        "colab": {
          "base_uri": "https://localhost:8080/",
          "height": 410
        },
        "id": "GyDuDDzBlr4t",
        "outputId": "8240b2d2-43fa-4b80-b443-76786b77064a"
      },
      "execution_count": 62,
      "outputs": [
        {
          "output_type": "display_data",
          "data": {
            "text/plain": [
              "<Figure size 600x400 with 1 Axes>"
            ],
            "image/png": "[encoded data removed]"
          },
          "metadata": {}
        }
      ]
    },
    {
      "cell_type": "markdown",
      "source": [
        "## Q21. Write a Python program to train Logistic Regression with different solvers (liblinear, saga, lbfgs) and compare their accuracy."
      ],
      "metadata": {
        "id": "j1oedW6ko3xK"
      }
    },
    {
      "cell_type": "code",
      "source": [
        "from sklearn.datasets import load_breast_cancer\n",
        "Data = load_breast_cancer()\n",
        "X = Data.data\n",
        "y = Data.target\n",
        "\n",
        "X_train, X_test, y_train, y_test = train_test_split(X, y, test_size=0.2, random_state=1)\n",
        "\n",
        "solvers = ['liblinear', 'saga', 'lbfgs']\n",
        "\n",
        "accuracy_results = {}\n",
        "\n",
        "for solver in solvers:\n",
        "    model = LogisticRegression(solver=solver)\n",
        "    model.fit(X_train, y_train)\n",
        "    y_pred = model.predict(X_test)\n",
        "    acc = accuracy_score(y_test, y_pred)\n",
        "    accuracy_results[solver] = acc\n",
        "    print(f\"Accuracy with solver='{solver}': {acc:.4f}\")"
      ],
      "metadata": {
        "colab": {
          "base_uri": "https://localhost:8080/"
        },
        "id": "iJ8-fcxTpmGO",
        "outputId": "8ca1a278-d062-438b-a974-78e60eface37"
      },
      "execution_count": 64,
      "outputs": [
        {
          "output_type": "stream",
          "name": "stdout",
          "text": [
            "Accuracy with solver='liblinear': 0.9561\n",
            "Accuracy with solver='saga': 0.8772\n",
            "Accuracy with solver='lbfgs': 0.9474\n"
          ]
        }
      ]
    },
    {
      "cell_type": "markdown",
      "source": [
        "## Q22. Write a Python program to train Logistic Regression and evaluate its performance using Matthews Correlation Coefficient (MCC).\n"
      ],
      "metadata": {
        "id": "577uIaGwqB3o"
      }
    },
    {
      "cell_type": "code",
      "source": [
        "from sklearn.datasets import load_breast_cancer\n",
        "Data = load_breast_cancer()\n",
        "X = Data.data\n",
        "y = Data.target\n",
        "\n",
        "X_train, X_test, y_train, y_test = train_test_split(X, y, test_size=0.2, random_state=1)\n",
        "\n",
        "model = LogisticRegression()\n",
        "model.fit(X_train, y_train)\n",
        "\n",
        "y_pred = model.predict(X_test)\n",
        "\n",
        "from sklearn.metrics import matthews_corrcoef\n",
        "mcc = matthews_corrcoef(y_test, y_pred)\n",
        "print(\"Matthews Correlation Coefficient (MCC):\", mcc)"
      ],
      "metadata": {
        "colab": {
          "base_uri": "https://localhost:8080/"
        },
        "id": "t-4cBeWWrkxq",
        "outputId": "bf7e4f76-87c0-4b4a-9058-6ca1522bf695"
      },
      "execution_count": 65,
      "outputs": [
        {
          "output_type": "stream",
          "name": "stdout",
          "text": [
            "Matthews Correlation Coefficient (MCC): 0.8864143349643965\n"
          ]
        }
      ]
    },
    {
      "cell_type": "markdown",
      "source": [
        "## Q23. Write a Python program to train Logistic Regression on both raw and standardized data. Compare their accuracy to see the impact of feature scaling."
      ],
      "metadata": {
        "id": "q0qUg4ICr6GD"
      }
    },
    {
      "cell_type": "code",
      "source": [
        "from sklearn.datasets import load_breast_cancer\n",
        "Data = load_breast_cancer()\n",
        "X = Data.data\n",
        "y = Data.target\n",
        "\n",
        "X_train, X_test, y_train, y_test = train_test_split(X, y, test_size=0.2, random_state=1)\n",
        "\n",
        "# Logistic Regression on Raw Data\n",
        "model_raw = LogisticRegression()\n",
        "model_raw.fit(X_train, y_train)\n",
        "pred_raw = model_raw.predict(X_test)\n",
        "acc_raw = accuracy_score(y_test, pred_raw)\n",
        "\n",
        "# Logistic Regression on Standardized Data\n",
        "from sklearn.preprocessing import StandardScaler\n",
        "scaler = StandardScaler()\n",
        "X_train_scaled = scaler.fit_transform(X_train)\n",
        "X_test_scaled = scaler.transform(X_test)\n",
        "\n",
        "model_scaled = LogisticRegression()\n",
        "model_scaled.fit(X_train_scaled, y_train)\n",
        "pred_scaled = model_scaled.predict(X_test_scaled)\n",
        "acc_scaled = accuracy_score(y_test, pred_scaled)\n",
        "\n",
        "print(\"Accuracy on raw data       :\", acc_raw)\n",
        "print(\"Accuracy on standardized data:\", acc_scaled)"
      ],
      "metadata": {
        "colab": {
          "base_uri": "https://localhost:8080/"
        },
        "id": "PIvXAHmqsydi",
        "outputId": "07a9303e-b557-4591-c436-d3a325950e72"
      },
      "execution_count": 66,
      "outputs": [
        {
          "output_type": "stream",
          "name": "stdout",
          "text": [
            "Accuracy on raw data       : 0.9473684210526315\n",
            "Accuracy on standardized data: 0.9736842105263158\n"
          ]
        }
      ]
    },
    {
      "cell_type": "markdown",
      "source": [
        "## Q24. Write a Python program to train Logistic Regression and find the optimal C (regularization strength) using cross-validation."
      ],
      "metadata": {
        "id": "xRF_x1FBvZba"
      }
    },
    {
      "cell_type": "code",
      "source": [
        "from sklearn.datasets import load_breast_cancer\n",
        "Data = load_breast_cancer()\n",
        "X = Data.data\n",
        "y = Data.target\n",
        "\n",
        "X_train, X_test, y_train, y_test = train_test_split(X, y, test_size=0.2, random_state=1)\n",
        "\n",
        "model = LogisticRegression()\n",
        "\n",
        "param_grid = {'C': np.logspace(-4, 4, 10)}\n",
        "\n",
        "from sklearn.model_selection import GridSearchCV\n",
        "grid = GridSearchCV(model, param_grid, cv=5, scoring='accuracy')\n",
        "grid.fit(X_train, y_train)\n",
        "\n",
        "print(\"Best C value:\", grid.best_params_['C'])\n",
        "print(\"Best cross-validation accuracy:\", grid.best_score_)"
      ],
      "metadata": {
        "colab": {
          "base_uri": "https://localhost:8080/"
        },
        "id": "y3gveuBbvruL",
        "outputId": "0aa26345-a9e8-46a2-d1ea-8149c7e9c749"
      },
      "execution_count": 70,
      "outputs": [
        {
          "output_type": "stream",
          "name": "stdout",
          "text": [
            "Best C value: 21.54434690031882\n",
            "Best cross-validation accuracy: 0.9472527472527472\n"
          ]
        }
      ]
    },
    {
      "cell_type": "markdown",
      "source": [
        "## Q25. Write a Python program to train Logistic Regression, save the trained model using joblib, and load it again to make predictions."
      ],
      "metadata": {
        "id": "uW9HPiQOy673"
      }
    },
    {
      "cell_type": "code",
      "source": [
        "from sklearn.datasets import load_breast_cancer\n",
        "Data = load_breast_cancer()\n",
        "X = Data.data\n",
        "y = Data.target\n",
        "\n",
        "X_train, X_test, y_train, y_test = train_test_split(X, y, test_size=0.2, random_state=1)\n",
        "\n",
        "model = LogisticRegression()\n",
        "model.fit(X_train, y_train)\n",
        "\n",
        "import joblib\n",
        "joblib.dump(model, 'logistic_model.joblib')\n",
        "loaded_model = joblib.load('logistic_model.joblib')\n",
        "\n",
        "y_pred = loaded_model.predict(X_test)\n",
        "print(\"Accuracy of loaded model:\", accuracy_score(y_test, y_pred))"
      ],
      "metadata": {
        "colab": {
          "base_uri": "https://localhost:8080/"
        },
        "id": "i8WFR0l9zRXR",
        "outputId": "3b48e496-fd6f-437c-dfa0-43b7647a312a"
      },
      "execution_count": 74,
      "outputs": [
        {
          "output_type": "stream",
          "name": "stdout",
          "text": [
            "Accuracy of loaded model: 0.9473684210526315\n"
          ]
        }
      ]
    }
  ]
}